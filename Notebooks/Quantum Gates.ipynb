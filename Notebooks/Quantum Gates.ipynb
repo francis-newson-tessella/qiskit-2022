{
 "cells": [
  {
   "cell_type": "markdown",
   "id": "34e14bc5",
   "metadata": {},
   "source": [
    "# Introduction to quantum gates with QISKit"
   ]
  },
  {
   "cell_type": "markdown",
   "id": "e709e459",
   "metadata": {},
   "source": [
    "This notebook introduces quantum logic gates in QISKit. After working through this notebook a user will have knowledge about quantum logic gates, how they operate on qubits, and how they are implemented in QISKit. Quantum logic gates (along with qubits) form all the needed components to create a quantum circuit."
   ]
  },
  {
   "cell_type": "markdown",
   "id": "6e40dac7",
   "metadata": {},
   "source": [
    "## Quantum logic gates\n",
    "Recall that a single qubit is represented as a 2-D column vector. Operations on a single qubit are achieved by  multiplying the vector with a $2 \\times 2$ matrix. If we have a 2-D column vector $x = \\begin{bmatrix} x_1 \\\\ x_2 \\end{bmatrix}$ and a $ 2 \\times 2$ matrix $A = \\begin{bmatrix} a_{11} & a_{12} \\\\ a_{21} & a_{22}\\end{bmatrix}$, we can multiply them together as follows:\n",
    "\n",
    "$$\n",
    "Ax = \n",
    "\\begin{bmatrix} a_{11} & a_{12} \\\\ a_{21} & a_{22}\\end{bmatrix}\n",
    "\\begin{bmatrix} x_1 \\\\ x_2 \\end{bmatrix}\n",
    "= \n",
    "\\begin{bmatrix} a_{11}x_1 + a_{12}x_2\\\\ a_{21}x_1 + a_{22}x_2 \\end{bmatrix}.\n",
    "$$\n",
    "\n",
    "A high-level perspective of $2\\times 2$ matrix-vector multiplication is that it is a transforms one vector to another vector. The transformation details are encoded in the matrix. "
   ]
  },
  {
   "cell_type": "code",
   "execution_count": null,
   "id": "206a834f",
   "metadata": {},
   "outputs": [],
   "source": []
  }
 ],
 "metadata": {
  "kernelspec": {
   "display_name": "Python 3 (ipykernel)",
   "language": "python",
   "name": "python3"
  },
  "language_info": {
   "codemirror_mode": {
    "name": "ipython",
    "version": 3
   },
   "file_extension": ".py",
   "mimetype": "text/x-python",
   "name": "python",
   "nbconvert_exporter": "python",
   "pygments_lexer": "ipython3",
   "version": "3.8.12"
  }
 },
 "nbformat": 4,
 "nbformat_minor": 5
}
